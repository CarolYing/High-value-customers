{
 "cells": [
  {
   "cell_type": "markdown",
   "metadata": {},
   "source": [
    "# Import Packages"
   ]
  },
  {
   "cell_type": "code",
   "execution_count": 253,
   "metadata": {},
   "outputs": [],
   "source": [
    "import warnings\n",
    "warnings.filterwarnings('ignore')\n",
    "\n",
    "import numpy as np\n",
    "import pandas as pd\n",
    "import matplotlib.pyplot as plt\n",
    "plt.figure(figsize=(8, 6))\n",
    "%matplotlib inline\n",
    "import seaborn as sns\n",
    "\n",
    "import datetime as dt\n",
    "\n",
    "import missingno as msno # viz missing values\n",
    "\n",
    "sns.set_style(\"darkgrid\")\n",
    "import itertools"
   ]
  },
  {
   "cell_type": "code",
   "execution_count": 254,
   "metadata": {},
   "outputs": [],
   "source": [
    "from sklearn.model_selection import train_test_split\n",
    "from sklearn.metrics import accuracy_score, confusion_matrix\n",
    "from sklearn.metrics import accuracy_score\n",
    "\n",
    "from sklearn import metrics\n",
    "from sklearn.metrics import classification_report\n",
    "from sklearn.metrics import cohen_kappa_score\n",
    "from sklearn.metrics import matthews_corrcoef\n",
    "\n",
    "from sklearn.model_selection import RepeatedStratifiedKFold\n",
    "from sklearn.model_selection import cross_val_score\n",
    "from sklearn.model_selection import GridSearchCV\n",
    "\n",
    "from sklearn.tree import DecisionTreeClassifier\n",
    "from xgboost import XGBClassifier"
   ]
  },
  {
   "cell_type": "markdown",
   "metadata": {},
   "source": [
    "# Utility Functions and Pipelines"
   ]
  },
  {
   "cell_type": "code",
   "execution_count": 255,
   "metadata": {},
   "outputs": [],
   "source": [
    "def plot_confusion_matrix(cm, classes,\n",
    "                          normalize=False,\n",
    "                          title='Confusion matrix',\n",
    "                          cmap=plt.cm.Blues):\n",
    "    if normalize:\n",
    "        cm = cm.astype('float') / cm.sum(axis=1)[:, np.newaxis]\n",
    "        \n",
    "    print(cm)\n",
    "\n",
    "    plt.imshow(cm, interpolation='nearest', cmap=cmap)\n",
    "    plt.title(title)\n",
    "    plt.colorbar()\n",
    "    tick_marks = np.arange(len(classes))\n",
    "    plt.xticks(tick_marks, classes)\n",
    "    plt.yticks(tick_marks, classes)\n",
    "    plt.grid(False)\n",
    "\n",
    "    fmt = '.2f' if normalize else 'd'\n",
    "    thresh = cm.max() / 2.\n",
    "    for i, j in itertools.product(range(cm.shape[0]), range(cm.shape[1])):\n",
    "        plt.text(j, i, format(cm[i, j], fmt),\n",
    "                 horizontalalignment=\"center\",\n",
    "                 color=\"white\" if cm[i, j] > thresh else \"black\")\n",
    "\n",
    "    plt.tight_layout()\n",
    "    plt.ylabel('True label')\n",
    "    plt.xlabel('Predicted label')"
   ]
  },
  {
   "cell_type": "markdown",
   "metadata": {},
   "source": [
    "refer to this [post](https://towardsdatascience.com/comprehensive-guide-on-multiclass-classification-metrics-af94cfb83fbd)"
   ]
  },
  {
   "cell_type": "code",
   "execution_count": 256,
   "metadata": {},
   "outputs": [],
   "source": [
    "def report(true_y, pred_y, class_names):\n",
    "    print(classification_report(true_y, pred_y, target_names=class_names))\n",
    "    print('-----------------------------')\n",
    "    \n",
    "    # Cohen Kappa Score\n",
    "    cohen_kappa = round(cohen_kappa_score(true_y, pred_y),2)\n",
    "    print(f'Cohen Jappa Score: {cohen_kappa}') # a score above 0.8 is considered excellent.\n",
    "    \n",
    "    # Matthews Correlation Coefficient\n",
    "    Matthews_Coefficient = round(metrics.matthews_corrcoef(true_y, pred_y),2)\n",
    "    print(f'Matthews Coefficient: {Matthews_Coefficient}') # values over 0.7 are considered good scores"
   ]
  },
  {
   "cell_type": "markdown",
   "metadata": {},
   "source": [
    "# Read datasets"
   ]
  },
  {
   "cell_type": "code",
   "execution_count": 257,
   "metadata": {},
   "outputs": [],
   "source": [
    "label_2 = pd.read_excel('label_2.xlsx')"
   ]
  },
  {
   "cell_type": "code",
   "execution_count": 258,
   "metadata": {},
   "outputs": [],
   "source": [
    "label_3 = pd.read_excel('label_3.xlsx')"
   ]
  },
  {
   "cell_type": "code",
   "execution_count": 259,
   "metadata": {},
   "outputs": [],
   "source": [
    "CustomerDemo = pd.read_excel('CustomerDemo.xlsx')"
   ]
  },
  {
   "cell_type": "code",
   "execution_count": 260,
   "metadata": {},
   "outputs": [],
   "source": [
    "CustomerAddr = pd.read_excel('CustomerAddr.xlsx')"
   ]
  },
  {
   "cell_type": "code",
   "execution_count": 261,
   "metadata": {},
   "outputs": [],
   "source": [
    "NewCustomer = pd.read_excel('NewCustomer.xlsx')"
   ]
  },
  {
   "cell_type": "markdown",
   "metadata": {},
   "source": [
    "# Ready for modeling"
   ]
  },
  {
   "cell_type": "code",
   "execution_count": 262,
   "metadata": {
    "scrolled": true
   },
   "outputs": [
    {
     "data": {
      "text/html": [
       "<div>\n",
       "<style scoped>\n",
       "    .dataframe tbody tr th:only-of-type {\n",
       "        vertical-align: middle;\n",
       "    }\n",
       "\n",
       "    .dataframe tbody tr th {\n",
       "        vertical-align: top;\n",
       "    }\n",
       "\n",
       "    .dataframe thead th {\n",
       "        text-align: right;\n",
       "    }\n",
       "</style>\n",
       "<table border=\"1\" class=\"dataframe\">\n",
       "  <thead>\n",
       "    <tr style=\"text-align: right;\">\n",
       "      <th></th>\n",
       "      <th>customer_id</th>\n",
       "      <th>first_name</th>\n",
       "      <th>last_name</th>\n",
       "      <th>gender</th>\n",
       "      <th>past_3_years_bike_related_purchases</th>\n",
       "      <th>job_title</th>\n",
       "      <th>job_industry_category</th>\n",
       "      <th>wealth_segment</th>\n",
       "      <th>owns_car</th>\n",
       "      <th>tenure</th>\n",
       "      <th>age</th>\n",
       "    </tr>\n",
       "  </thead>\n",
       "  <tbody>\n",
       "    <tr>\n",
       "      <th>0</th>\n",
       "      <td>1</td>\n",
       "      <td>Laraine</td>\n",
       "      <td>Medendorp</td>\n",
       "      <td>Female</td>\n",
       "      <td>93</td>\n",
       "      <td>Executive Secretary</td>\n",
       "      <td>Health</td>\n",
       "      <td>Mass Customer</td>\n",
       "      <td>Yes</td>\n",
       "      <td>11</td>\n",
       "      <td>64</td>\n",
       "    </tr>\n",
       "    <tr>\n",
       "      <th>1</th>\n",
       "      <td>2</td>\n",
       "      <td>Eli</td>\n",
       "      <td>Bockman</td>\n",
       "      <td>Male</td>\n",
       "      <td>81</td>\n",
       "      <td>Administrative Officer</td>\n",
       "      <td>Financial Services</td>\n",
       "      <td>Mass Customer</td>\n",
       "      <td>Yes</td>\n",
       "      <td>16</td>\n",
       "      <td>37</td>\n",
       "    </tr>\n",
       "  </tbody>\n",
       "</table>\n",
       "</div>"
      ],
      "text/plain": [
       "   customer_id first_name  last_name  gender  \\\n",
       "0            1    Laraine  Medendorp  Female   \n",
       "1            2        Eli    Bockman    Male   \n",
       "\n",
       "   past_3_years_bike_related_purchases               job_title  \\\n",
       "0                                   93     Executive Secretary   \n",
       "1                                   81  Administrative Officer   \n",
       "\n",
       "  job_industry_category wealth_segment owns_car  tenure  age  \n",
       "0                Health  Mass Customer      Yes      11   64  \n",
       "1    Financial Services  Mass Customer      Yes      16   37  "
      ]
     },
     "execution_count": 262,
     "metadata": {},
     "output_type": "execute_result"
    }
   ],
   "source": [
    "CustomerDemo.head(2)"
   ]
  },
  {
   "cell_type": "code",
   "execution_count": 263,
   "metadata": {},
   "outputs": [
    {
     "data": {
      "text/html": [
       "<div>\n",
       "<style scoped>\n",
       "    .dataframe tbody tr th:only-of-type {\n",
       "        vertical-align: middle;\n",
       "    }\n",
       "\n",
       "    .dataframe tbody tr th {\n",
       "        vertical-align: top;\n",
       "    }\n",
       "\n",
       "    .dataframe thead th {\n",
       "        text-align: right;\n",
       "    }\n",
       "</style>\n",
       "<table border=\"1\" class=\"dataframe\">\n",
       "  <thead>\n",
       "    <tr style=\"text-align: right;\">\n",
       "      <th></th>\n",
       "      <th>customer_id</th>\n",
       "      <th>address</th>\n",
       "      <th>postcode</th>\n",
       "      <th>state</th>\n",
       "      <th>country</th>\n",
       "      <th>property_valuation</th>\n",
       "    </tr>\n",
       "  </thead>\n",
       "  <tbody>\n",
       "    <tr>\n",
       "      <th>0</th>\n",
       "      <td>1</td>\n",
       "      <td>060 Morning Avenue</td>\n",
       "      <td>2016</td>\n",
       "      <td>NSW</td>\n",
       "      <td>Australia</td>\n",
       "      <td>10</td>\n",
       "    </tr>\n",
       "    <tr>\n",
       "      <th>1</th>\n",
       "      <td>2</td>\n",
       "      <td>6 Meadow Vale Court</td>\n",
       "      <td>2153</td>\n",
       "      <td>NSW</td>\n",
       "      <td>Australia</td>\n",
       "      <td>10</td>\n",
       "    </tr>\n",
       "  </tbody>\n",
       "</table>\n",
       "</div>"
      ],
      "text/plain": [
       "   customer_id              address  postcode state    country  \\\n",
       "0            1   060 Morning Avenue      2016   NSW  Australia   \n",
       "1            2  6 Meadow Vale Court      2153   NSW  Australia   \n",
       "\n",
       "   property_valuation  \n",
       "0                  10  \n",
       "1                  10  "
      ]
     },
     "execution_count": 263,
     "metadata": {},
     "output_type": "execute_result"
    }
   ],
   "source": [
    "CustomerAddr.head(2)"
   ]
  },
  {
   "cell_type": "code",
   "execution_count": 264,
   "metadata": {},
   "outputs": [],
   "source": [
    "PastCustomer = pd.merge(CustomerDemo, CustomerAddr, on = 'customer_id', how = 'inner')"
   ]
  },
  {
   "cell_type": "code",
   "execution_count": 265,
   "metadata": {},
   "outputs": [
    {
     "data": {
      "text/html": [
       "<div>\n",
       "<style scoped>\n",
       "    .dataframe tbody tr th:only-of-type {\n",
       "        vertical-align: middle;\n",
       "    }\n",
       "\n",
       "    .dataframe tbody tr th {\n",
       "        vertical-align: top;\n",
       "    }\n",
       "\n",
       "    .dataframe thead th {\n",
       "        text-align: right;\n",
       "    }\n",
       "</style>\n",
       "<table border=\"1\" class=\"dataframe\">\n",
       "  <thead>\n",
       "    <tr style=\"text-align: right;\">\n",
       "      <th></th>\n",
       "      <th>customer_id</th>\n",
       "      <th>cluster</th>\n",
       "    </tr>\n",
       "  </thead>\n",
       "  <tbody>\n",
       "    <tr>\n",
       "      <th>0</th>\n",
       "      <td>1</td>\n",
       "      <td>high</td>\n",
       "    </tr>\n",
       "    <tr>\n",
       "      <th>1</th>\n",
       "      <td>2</td>\n",
       "      <td>low</td>\n",
       "    </tr>\n",
       "    <tr>\n",
       "      <th>2</th>\n",
       "      <td>3</td>\n",
       "      <td>high</td>\n",
       "    </tr>\n",
       "    <tr>\n",
       "      <th>3</th>\n",
       "      <td>4</td>\n",
       "      <td>low</td>\n",
       "    </tr>\n",
       "    <tr>\n",
       "      <th>4</th>\n",
       "      <td>5</td>\n",
       "      <td>high</td>\n",
       "    </tr>\n",
       "  </tbody>\n",
       "</table>\n",
       "</div>"
      ],
      "text/plain": [
       "   customer_id cluster\n",
       "0            1    high\n",
       "1            2     low\n",
       "2            3    high\n",
       "3            4     low\n",
       "4            5    high"
      ]
     },
     "execution_count": 265,
     "metadata": {},
     "output_type": "execute_result"
    }
   ],
   "source": [
    "label_2.head()"
   ]
  },
  {
   "cell_type": "code",
   "execution_count": 266,
   "metadata": {},
   "outputs": [],
   "source": [
    "PastCust_demo_labeled_2 = pd.merge(PastCustomer, label_2, on = 'customer_id', how = 'inner')"
   ]
  },
  {
   "cell_type": "code",
   "execution_count": 267,
   "metadata": {},
   "outputs": [],
   "source": [
    "PastCust_demo_labeled_3 = pd.merge(PastCustomer, label_3, on = 'customer_id', how = 'inner')"
   ]
  },
  {
   "cell_type": "code",
   "execution_count": 268,
   "metadata": {},
   "outputs": [
    {
     "data": {
      "text/plain": [
       "Index(['customer_id', 'first_name', 'last_name', 'gender',\n",
       "       'past_3_years_bike_related_purchases', 'job_title',\n",
       "       'job_industry_category', 'wealth_segment', 'owns_car', 'tenure', 'age',\n",
       "       'address', 'postcode', 'state', 'country', 'property_valuation',\n",
       "       'cluster'],\n",
       "      dtype='object')"
      ]
     },
     "execution_count": 268,
     "metadata": {},
     "output_type": "execute_result"
    }
   ],
   "source": [
    "PastCust_demo_labeled_3.columns"
   ]
  },
  {
   "cell_type": "code",
   "execution_count": 269,
   "metadata": {},
   "outputs": [
    {
     "data": {
      "text/plain": [
       "Index(['customer_id', 'first_name', 'last_name', 'gender',\n",
       "       'past_3_years_bike_related_purchases', 'job_title',\n",
       "       'job_industry_category', 'wealth_segment', 'owns_car', 'tenure', 'age',\n",
       "       'address', 'postcode', 'state', 'country', 'property_valuation',\n",
       "       'cluster'],\n",
       "      dtype='object')"
      ]
     },
     "execution_count": 269,
     "metadata": {},
     "output_type": "execute_result"
    }
   ],
   "source": [
    "PastCust_demo_labeled_2.columns"
   ]
  },
  {
   "cell_type": "markdown",
   "metadata": {},
   "source": [
    "## Ready for modeling (num + cat)"
   ]
  },
  {
   "cell_type": "code",
   "execution_count": 270,
   "metadata": {},
   "outputs": [],
   "source": [
    "PastCust_demo_labeled_3.drop(['first_name',\n",
    "                            'last_name',\n",
    "                            'job_title',\n",
    "                            'job_industry_category',\n",
    "                            'address',\n",
    "                            'postcode',\n",
    "                            'country'], axis=1, inplace=True)"
   ]
  },
  {
   "cell_type": "code",
   "execution_count": 271,
   "metadata": {},
   "outputs": [],
   "source": [
    "PastCust_demo_labeled_2.drop(['first_name',\n",
    "                            'last_name',\n",
    "                            'job_title',\n",
    "                            'job_industry_category',\n",
    "                            'address',\n",
    "                            'postcode',\n",
    "                            'country'], axis=1, inplace=True)"
   ]
  },
  {
   "cell_type": "code",
   "execution_count": 272,
   "metadata": {
    "scrolled": true
   },
   "outputs": [
    {
     "data": {
      "text/html": [
       "<div>\n",
       "<style scoped>\n",
       "    .dataframe tbody tr th:only-of-type {\n",
       "        vertical-align: middle;\n",
       "    }\n",
       "\n",
       "    .dataframe tbody tr th {\n",
       "        vertical-align: top;\n",
       "    }\n",
       "\n",
       "    .dataframe thead th {\n",
       "        text-align: right;\n",
       "    }\n",
       "</style>\n",
       "<table border=\"1\" class=\"dataframe\">\n",
       "  <thead>\n",
       "    <tr style=\"text-align: right;\">\n",
       "      <th></th>\n",
       "      <th>customer_id</th>\n",
       "      <th>gender</th>\n",
       "      <th>past_3_years_bike_related_purchases</th>\n",
       "      <th>wealth_segment</th>\n",
       "      <th>owns_car</th>\n",
       "      <th>tenure</th>\n",
       "      <th>age</th>\n",
       "      <th>state</th>\n",
       "      <th>property_valuation</th>\n",
       "      <th>cluster</th>\n",
       "    </tr>\n",
       "  </thead>\n",
       "  <tbody>\n",
       "    <tr>\n",
       "      <th>0</th>\n",
       "      <td>1</td>\n",
       "      <td>Female</td>\n",
       "      <td>93</td>\n",
       "      <td>Mass Customer</td>\n",
       "      <td>Yes</td>\n",
       "      <td>11</td>\n",
       "      <td>64</td>\n",
       "      <td>NSW</td>\n",
       "      <td>10</td>\n",
       "      <td>high</td>\n",
       "    </tr>\n",
       "    <tr>\n",
       "      <th>1</th>\n",
       "      <td>2</td>\n",
       "      <td>Male</td>\n",
       "      <td>81</td>\n",
       "      <td>Mass Customer</td>\n",
       "      <td>Yes</td>\n",
       "      <td>16</td>\n",
       "      <td>37</td>\n",
       "      <td>NSW</td>\n",
       "      <td>10</td>\n",
       "      <td>low</td>\n",
       "    </tr>\n",
       "    <tr>\n",
       "      <th>2</th>\n",
       "      <td>4</td>\n",
       "      <td>Male</td>\n",
       "      <td>33</td>\n",
       "      <td>Mass Customer</td>\n",
       "      <td>No</td>\n",
       "      <td>7</td>\n",
       "      <td>56</td>\n",
       "      <td>QLD</td>\n",
       "      <td>9</td>\n",
       "      <td>low</td>\n",
       "    </tr>\n",
       "  </tbody>\n",
       "</table>\n",
       "</div>"
      ],
      "text/plain": [
       "   customer_id  gender  past_3_years_bike_related_purchases wealth_segment  \\\n",
       "0            1  Female                                   93  Mass Customer   \n",
       "1            2    Male                                   81  Mass Customer   \n",
       "2            4    Male                                   33  Mass Customer   \n",
       "\n",
       "  owns_car  tenure  age state  property_valuation cluster  \n",
       "0      Yes      11   64   NSW                  10    high  \n",
       "1      Yes      16   37   NSW                  10     low  \n",
       "2       No       7   56   QLD                   9     low  "
      ]
     },
     "execution_count": 272,
     "metadata": {},
     "output_type": "execute_result"
    }
   ],
   "source": [
    "PastCust_demo_labeled_3.head(3)"
   ]
  },
  {
   "cell_type": "code",
   "execution_count": 273,
   "metadata": {},
   "outputs": [
    {
     "data": {
      "text/html": [
       "<div>\n",
       "<style scoped>\n",
       "    .dataframe tbody tr th:only-of-type {\n",
       "        vertical-align: middle;\n",
       "    }\n",
       "\n",
       "    .dataframe tbody tr th {\n",
       "        vertical-align: top;\n",
       "    }\n",
       "\n",
       "    .dataframe thead th {\n",
       "        text-align: right;\n",
       "    }\n",
       "</style>\n",
       "<table border=\"1\" class=\"dataframe\">\n",
       "  <thead>\n",
       "    <tr style=\"text-align: right;\">\n",
       "      <th></th>\n",
       "      <th>customer_id</th>\n",
       "      <th>gender</th>\n",
       "      <th>past_3_years_bike_related_purchases</th>\n",
       "      <th>wealth_segment</th>\n",
       "      <th>owns_car</th>\n",
       "      <th>tenure</th>\n",
       "      <th>age</th>\n",
       "      <th>state</th>\n",
       "      <th>property_valuation</th>\n",
       "      <th>cluster</th>\n",
       "    </tr>\n",
       "  </thead>\n",
       "  <tbody>\n",
       "    <tr>\n",
       "      <th>0</th>\n",
       "      <td>1</td>\n",
       "      <td>Female</td>\n",
       "      <td>93</td>\n",
       "      <td>Mass Customer</td>\n",
       "      <td>Yes</td>\n",
       "      <td>11</td>\n",
       "      <td>64</td>\n",
       "      <td>NSW</td>\n",
       "      <td>10</td>\n",
       "      <td>high</td>\n",
       "    </tr>\n",
       "    <tr>\n",
       "      <th>1</th>\n",
       "      <td>2</td>\n",
       "      <td>Male</td>\n",
       "      <td>81</td>\n",
       "      <td>Mass Customer</td>\n",
       "      <td>Yes</td>\n",
       "      <td>16</td>\n",
       "      <td>37</td>\n",
       "      <td>NSW</td>\n",
       "      <td>10</td>\n",
       "      <td>low</td>\n",
       "    </tr>\n",
       "    <tr>\n",
       "      <th>2</th>\n",
       "      <td>4</td>\n",
       "      <td>Male</td>\n",
       "      <td>33</td>\n",
       "      <td>Mass Customer</td>\n",
       "      <td>No</td>\n",
       "      <td>7</td>\n",
       "      <td>56</td>\n",
       "      <td>QLD</td>\n",
       "      <td>9</td>\n",
       "      <td>low</td>\n",
       "    </tr>\n",
       "  </tbody>\n",
       "</table>\n",
       "</div>"
      ],
      "text/plain": [
       "   customer_id  gender  past_3_years_bike_related_purchases wealth_segment  \\\n",
       "0            1  Female                                   93  Mass Customer   \n",
       "1            2    Male                                   81  Mass Customer   \n",
       "2            4    Male                                   33  Mass Customer   \n",
       "\n",
       "  owns_car  tenure  age state  property_valuation cluster  \n",
       "0      Yes      11   64   NSW                  10    high  \n",
       "1      Yes      16   37   NSW                  10     low  \n",
       "2       No       7   56   QLD                   9     low  "
      ]
     },
     "execution_count": 273,
     "metadata": {},
     "output_type": "execute_result"
    }
   ],
   "source": [
    "PastCust_demo_labeled_2.head(3)"
   ]
  },
  {
   "cell_type": "markdown",
   "metadata": {},
   "source": [
    "## Numerical --> Categorical"
   ]
  },
  {
   "cell_type": "code",
   "execution_count": 274,
   "metadata": {},
   "outputs": [],
   "source": [
    "PastCust_demo_cat_labeled_3 = PastCust_demo_labeled_3.copy()"
   ]
  },
  {
   "cell_type": "code",
   "execution_count": 275,
   "metadata": {},
   "outputs": [],
   "source": [
    "PastCust_demo_cat_labeled_2 = PastCust_demo_labeled_2.copy()"
   ]
  },
  {
   "cell_type": "markdown",
   "metadata": {},
   "source": [
    "### Age"
   ]
  },
  {
   "cell_type": "code",
   "execution_count": 276,
   "metadata": {},
   "outputs": [],
   "source": [
    "def age_cat(x):\n",
    "    if x <=30:\n",
    "        return 'young'\n",
    "    elif x > 50:\n",
    "        return 'senior'\n",
    "    else:\n",
    "        return 'mid-age'"
   ]
  },
  {
   "cell_type": "code",
   "execution_count": 277,
   "metadata": {},
   "outputs": [],
   "source": [
    "PastCust_demo_cat_labeled_3['age_cat'] = PastCust_demo_cat_labeled_3['age'].apply(lambda x: age_cat(x))"
   ]
  },
  {
   "cell_type": "code",
   "execution_count": 278,
   "metadata": {},
   "outputs": [],
   "source": [
    "PastCust_demo_cat_labeled_2['age_cat'] = PastCust_demo_cat_labeled_2['age'].apply(lambda x: age_cat(x))"
   ]
  },
  {
   "cell_type": "markdown",
   "metadata": {},
   "source": [
    "### past_3_years_bike_related_purchases"
   ]
  },
  {
   "cell_type": "code",
   "execution_count": 279,
   "metadata": {},
   "outputs": [],
   "source": [
    "def purchase_cat(x):\n",
    "    if x <=20:\n",
    "        return 'few'\n",
    "    elif x > 70:\n",
    "        return 'many'\n",
    "    else:\n",
    "        return 'medium'"
   ]
  },
  {
   "cell_type": "code",
   "execution_count": 280,
   "metadata": {},
   "outputs": [],
   "source": [
    "PastCust_demo_cat_labeled_3['purchase_cat'] = PastCust_demo_cat_labeled_3['past_3_years_bike_related_purchases'].apply(lambda x: purchase_cat(x))"
   ]
  },
  {
   "cell_type": "code",
   "execution_count": 281,
   "metadata": {},
   "outputs": [],
   "source": [
    "PastCust_demo_cat_labeled_2['purchase_cat'] = PastCust_demo_cat_labeled_2['past_3_years_bike_related_purchases'].apply(lambda x: age_cat(x))"
   ]
  },
  {
   "cell_type": "markdown",
   "metadata": {},
   "source": [
    "### Tenure"
   ]
  },
  {
   "cell_type": "code",
   "execution_count": 282,
   "metadata": {},
   "outputs": [],
   "source": [
    "def tenure_cat(x):\n",
    "    if x <=6:\n",
    "        return 'short'\n",
    "    elif x > 15:\n",
    "        return 'long'\n",
    "    else:\n",
    "        return 'medium'"
   ]
  },
  {
   "cell_type": "code",
   "execution_count": 283,
   "metadata": {},
   "outputs": [],
   "source": [
    "PastCust_demo_cat_labeled_3['tenure_cat'] = PastCust_demo_cat_labeled_3['tenure'].apply(lambda x: tenure_cat(x))"
   ]
  },
  {
   "cell_type": "code",
   "execution_count": 284,
   "metadata": {},
   "outputs": [],
   "source": [
    "PastCust_demo_cat_labeled_2['tenure_cat'] = PastCust_demo_cat_labeled_2['tenure'].apply(lambda x: tenure_cat(x))"
   ]
  },
  {
   "cell_type": "markdown",
   "metadata": {},
   "source": [
    "### Property"
   ]
  },
  {
   "cell_type": "code",
   "execution_count": 285,
   "metadata": {},
   "outputs": [],
   "source": [
    "def property_cat(x):\n",
    "    if x <=6:\n",
    "        return 'low'\n",
    "    elif x > 10:\n",
    "        return 'high'\n",
    "    else:\n",
    "        return 'medium'"
   ]
  },
  {
   "cell_type": "code",
   "execution_count": 286,
   "metadata": {},
   "outputs": [],
   "source": [
    "PastCust_demo_cat_labeled_3['property_cat'] = PastCust_demo_cat_labeled_3['property_valuation'].apply(lambda x: property_cat(x))"
   ]
  },
  {
   "cell_type": "code",
   "execution_count": 287,
   "metadata": {},
   "outputs": [],
   "source": [
    "PastCust_demo_cat_labeled_2['property_cat'] = PastCust_demo_cat_labeled_2['property_valuation'].apply(lambda x: property_cat(x))"
   ]
  },
  {
   "cell_type": "markdown",
   "metadata": {},
   "source": [
    "## Ready for modeling (cat only)"
   ]
  },
  {
   "cell_type": "code",
   "execution_count": 288,
   "metadata": {},
   "outputs": [],
   "source": [
    "PastCust_demo_cat_labeled_3.drop(['past_3_years_bike_related_purchases',\n",
    "                                'tenure',\n",
    "                                'age',\n",
    "                                'property_valuation'], axis=1, inplace=True)"
   ]
  },
  {
   "cell_type": "code",
   "execution_count": 289,
   "metadata": {},
   "outputs": [],
   "source": [
    "PastCust_demo_cat_labeled_2.drop(['past_3_years_bike_related_purchases',\n",
    "                                'tenure',\n",
    "                                'age',\n",
    "                                'property_valuation'], axis=1, inplace=True)"
   ]
  },
  {
   "cell_type": "code",
   "execution_count": 290,
   "metadata": {
    "scrolled": true
   },
   "outputs": [
    {
     "data": {
      "text/html": [
       "<div>\n",
       "<style scoped>\n",
       "    .dataframe tbody tr th:only-of-type {\n",
       "        vertical-align: middle;\n",
       "    }\n",
       "\n",
       "    .dataframe tbody tr th {\n",
       "        vertical-align: top;\n",
       "    }\n",
       "\n",
       "    .dataframe thead th {\n",
       "        text-align: right;\n",
       "    }\n",
       "</style>\n",
       "<table border=\"1\" class=\"dataframe\">\n",
       "  <thead>\n",
       "    <tr style=\"text-align: right;\">\n",
       "      <th></th>\n",
       "      <th>customer_id</th>\n",
       "      <th>gender</th>\n",
       "      <th>wealth_segment</th>\n",
       "      <th>owns_car</th>\n",
       "      <th>state</th>\n",
       "      <th>cluster</th>\n",
       "      <th>age_cat</th>\n",
       "      <th>purchase_cat</th>\n",
       "      <th>tenure_cat</th>\n",
       "      <th>property_cat</th>\n",
       "    </tr>\n",
       "  </thead>\n",
       "  <tbody>\n",
       "    <tr>\n",
       "      <th>0</th>\n",
       "      <td>1</td>\n",
       "      <td>Female</td>\n",
       "      <td>Mass Customer</td>\n",
       "      <td>Yes</td>\n",
       "      <td>NSW</td>\n",
       "      <td>high</td>\n",
       "      <td>senior</td>\n",
       "      <td>many</td>\n",
       "      <td>medium</td>\n",
       "      <td>medium</td>\n",
       "    </tr>\n",
       "    <tr>\n",
       "      <th>1</th>\n",
       "      <td>2</td>\n",
       "      <td>Male</td>\n",
       "      <td>Mass Customer</td>\n",
       "      <td>Yes</td>\n",
       "      <td>NSW</td>\n",
       "      <td>low</td>\n",
       "      <td>mid-age</td>\n",
       "      <td>many</td>\n",
       "      <td>long</td>\n",
       "      <td>medium</td>\n",
       "    </tr>\n",
       "    <tr>\n",
       "      <th>2</th>\n",
       "      <td>4</td>\n",
       "      <td>Male</td>\n",
       "      <td>Mass Customer</td>\n",
       "      <td>No</td>\n",
       "      <td>QLD</td>\n",
       "      <td>low</td>\n",
       "      <td>senior</td>\n",
       "      <td>medium</td>\n",
       "      <td>medium</td>\n",
       "      <td>medium</td>\n",
       "    </tr>\n",
       "    <tr>\n",
       "      <th>3</th>\n",
       "      <td>5</td>\n",
       "      <td>Female</td>\n",
       "      <td>Affluent Customer</td>\n",
       "      <td>Yes</td>\n",
       "      <td>NSW</td>\n",
       "      <td>medium</td>\n",
       "      <td>mid-age</td>\n",
       "      <td>medium</td>\n",
       "      <td>medium</td>\n",
       "      <td>low</td>\n",
       "    </tr>\n",
       "    <tr>\n",
       "      <th>4</th>\n",
       "      <td>6</td>\n",
       "      <td>Male</td>\n",
       "      <td>High Net Worth</td>\n",
       "      <td>Yes</td>\n",
       "      <td>VIC</td>\n",
       "      <td>medium</td>\n",
       "      <td>senior</td>\n",
       "      <td>medium</td>\n",
       "      <td>medium</td>\n",
       "      <td>medium</td>\n",
       "    </tr>\n",
       "  </tbody>\n",
       "</table>\n",
       "</div>"
      ],
      "text/plain": [
       "   customer_id  gender     wealth_segment owns_car state cluster  age_cat  \\\n",
       "0            1  Female      Mass Customer      Yes   NSW    high   senior   \n",
       "1            2    Male      Mass Customer      Yes   NSW     low  mid-age   \n",
       "2            4    Male      Mass Customer       No   QLD     low   senior   \n",
       "3            5  Female  Affluent Customer      Yes   NSW  medium  mid-age   \n",
       "4            6    Male     High Net Worth      Yes   VIC  medium   senior   \n",
       "\n",
       "  purchase_cat tenure_cat property_cat  \n",
       "0         many     medium       medium  \n",
       "1         many       long       medium  \n",
       "2       medium     medium       medium  \n",
       "3       medium     medium          low  \n",
       "4       medium     medium       medium  "
      ]
     },
     "execution_count": 290,
     "metadata": {},
     "output_type": "execute_result"
    }
   ],
   "source": [
    "PastCust_demo_cat_labeled_3.head()"
   ]
  },
  {
   "cell_type": "code",
   "execution_count": 291,
   "metadata": {
    "scrolled": true
   },
   "outputs": [
    {
     "data": {
      "text/html": [
       "<div>\n",
       "<style scoped>\n",
       "    .dataframe tbody tr th:only-of-type {\n",
       "        vertical-align: middle;\n",
       "    }\n",
       "\n",
       "    .dataframe tbody tr th {\n",
       "        vertical-align: top;\n",
       "    }\n",
       "\n",
       "    .dataframe thead th {\n",
       "        text-align: right;\n",
       "    }\n",
       "</style>\n",
       "<table border=\"1\" class=\"dataframe\">\n",
       "  <thead>\n",
       "    <tr style=\"text-align: right;\">\n",
       "      <th></th>\n",
       "      <th>customer_id</th>\n",
       "      <th>gender</th>\n",
       "      <th>wealth_segment</th>\n",
       "      <th>owns_car</th>\n",
       "      <th>state</th>\n",
       "      <th>cluster</th>\n",
       "      <th>age_cat</th>\n",
       "      <th>purchase_cat</th>\n",
       "      <th>tenure_cat</th>\n",
       "      <th>property_cat</th>\n",
       "    </tr>\n",
       "  </thead>\n",
       "  <tbody>\n",
       "    <tr>\n",
       "      <th>0</th>\n",
       "      <td>1</td>\n",
       "      <td>Female</td>\n",
       "      <td>Mass Customer</td>\n",
       "      <td>Yes</td>\n",
       "      <td>NSW</td>\n",
       "      <td>high</td>\n",
       "      <td>senior</td>\n",
       "      <td>senior</td>\n",
       "      <td>medium</td>\n",
       "      <td>medium</td>\n",
       "    </tr>\n",
       "    <tr>\n",
       "      <th>1</th>\n",
       "      <td>2</td>\n",
       "      <td>Male</td>\n",
       "      <td>Mass Customer</td>\n",
       "      <td>Yes</td>\n",
       "      <td>NSW</td>\n",
       "      <td>low</td>\n",
       "      <td>mid-age</td>\n",
       "      <td>senior</td>\n",
       "      <td>long</td>\n",
       "      <td>medium</td>\n",
       "    </tr>\n",
       "    <tr>\n",
       "      <th>2</th>\n",
       "      <td>4</td>\n",
       "      <td>Male</td>\n",
       "      <td>Mass Customer</td>\n",
       "      <td>No</td>\n",
       "      <td>QLD</td>\n",
       "      <td>low</td>\n",
       "      <td>senior</td>\n",
       "      <td>mid-age</td>\n",
       "      <td>medium</td>\n",
       "      <td>medium</td>\n",
       "    </tr>\n",
       "    <tr>\n",
       "      <th>3</th>\n",
       "      <td>5</td>\n",
       "      <td>Female</td>\n",
       "      <td>Affluent Customer</td>\n",
       "      <td>Yes</td>\n",
       "      <td>NSW</td>\n",
       "      <td>high</td>\n",
       "      <td>mid-age</td>\n",
       "      <td>senior</td>\n",
       "      <td>medium</td>\n",
       "      <td>low</td>\n",
       "    </tr>\n",
       "    <tr>\n",
       "      <th>4</th>\n",
       "      <td>6</td>\n",
       "      <td>Male</td>\n",
       "      <td>High Net Worth</td>\n",
       "      <td>Yes</td>\n",
       "      <td>VIC</td>\n",
       "      <td>low</td>\n",
       "      <td>senior</td>\n",
       "      <td>mid-age</td>\n",
       "      <td>medium</td>\n",
       "      <td>medium</td>\n",
       "    </tr>\n",
       "  </tbody>\n",
       "</table>\n",
       "</div>"
      ],
      "text/plain": [
       "   customer_id  gender     wealth_segment owns_car state cluster  age_cat  \\\n",
       "0            1  Female      Mass Customer      Yes   NSW    high   senior   \n",
       "1            2    Male      Mass Customer      Yes   NSW     low  mid-age   \n",
       "2            4    Male      Mass Customer       No   QLD     low   senior   \n",
       "3            5  Female  Affluent Customer      Yes   NSW    high  mid-age   \n",
       "4            6    Male     High Net Worth      Yes   VIC     low   senior   \n",
       "\n",
       "  purchase_cat tenure_cat property_cat  \n",
       "0       senior     medium       medium  \n",
       "1       senior       long       medium  \n",
       "2      mid-age     medium       medium  \n",
       "3       senior     medium          low  \n",
       "4      mid-age     medium       medium  "
      ]
     },
     "execution_count": 291,
     "metadata": {},
     "output_type": "execute_result"
    }
   ],
   "source": [
    "PastCust_demo_cat_labeled_2.head()"
   ]
  },
  {
   "cell_type": "markdown",
   "metadata": {},
   "source": [
    "# Model fitting"
   ]
  },
  {
   "cell_type": "code",
   "execution_count": 227,
   "metadata": {},
   "outputs": [],
   "source": [
    "X = PastCust_demo_cat_labeled_3.drop(['customer_id', 'cluster'],axis=1)\n",
    "y = PastCust_demo_cat_labeled_3['cluster']"
   ]
  },
  {
   "cell_type": "code",
   "execution_count": 228,
   "metadata": {},
   "outputs": [],
   "source": [
    "# one-hot encode\n",
    "X = pd.get_dummies(X)"
   ]
  },
  {
   "cell_type": "code",
   "execution_count": 229,
   "metadata": {},
   "outputs": [
    {
     "data": {
      "text/html": [
       "<div>\n",
       "<style scoped>\n",
       "    .dataframe tbody tr th:only-of-type {\n",
       "        vertical-align: middle;\n",
       "    }\n",
       "\n",
       "    .dataframe tbody tr th {\n",
       "        vertical-align: top;\n",
       "    }\n",
       "\n",
       "    .dataframe thead th {\n",
       "        text-align: right;\n",
       "    }\n",
       "</style>\n",
       "<table border=\"1\" class=\"dataframe\">\n",
       "  <thead>\n",
       "    <tr style=\"text-align: right;\">\n",
       "      <th></th>\n",
       "      <th>gender_Female</th>\n",
       "      <th>gender_Male</th>\n",
       "      <th>wealth_segment_Affluent Customer</th>\n",
       "      <th>wealth_segment_High Net Worth</th>\n",
       "      <th>wealth_segment_Mass Customer</th>\n",
       "      <th>owns_car_No</th>\n",
       "      <th>owns_car_Yes</th>\n",
       "      <th>state_NSW</th>\n",
       "      <th>state_QLD</th>\n",
       "      <th>state_VIC</th>\n",
       "      <th>...</th>\n",
       "      <th>age_cat_young</th>\n",
       "      <th>purchase_cat_few</th>\n",
       "      <th>purchase_cat_many</th>\n",
       "      <th>purchase_cat_medium</th>\n",
       "      <th>tenure_cat_long</th>\n",
       "      <th>tenure_cat_medium</th>\n",
       "      <th>tenure_cat_short</th>\n",
       "      <th>property_cat_high</th>\n",
       "      <th>property_cat_low</th>\n",
       "      <th>property_cat_medium</th>\n",
       "    </tr>\n",
       "  </thead>\n",
       "  <tbody>\n",
       "    <tr>\n",
       "      <th>0</th>\n",
       "      <td>1</td>\n",
       "      <td>0</td>\n",
       "      <td>0</td>\n",
       "      <td>0</td>\n",
       "      <td>1</td>\n",
       "      <td>0</td>\n",
       "      <td>1</td>\n",
       "      <td>1</td>\n",
       "      <td>0</td>\n",
       "      <td>0</td>\n",
       "      <td>...</td>\n",
       "      <td>0</td>\n",
       "      <td>0</td>\n",
       "      <td>1</td>\n",
       "      <td>0</td>\n",
       "      <td>0</td>\n",
       "      <td>1</td>\n",
       "      <td>0</td>\n",
       "      <td>0</td>\n",
       "      <td>0</td>\n",
       "      <td>1</td>\n",
       "    </tr>\n",
       "    <tr>\n",
       "      <th>1</th>\n",
       "      <td>0</td>\n",
       "      <td>1</td>\n",
       "      <td>0</td>\n",
       "      <td>0</td>\n",
       "      <td>1</td>\n",
       "      <td>0</td>\n",
       "      <td>1</td>\n",
       "      <td>1</td>\n",
       "      <td>0</td>\n",
       "      <td>0</td>\n",
       "      <td>...</td>\n",
       "      <td>0</td>\n",
       "      <td>0</td>\n",
       "      <td>1</td>\n",
       "      <td>0</td>\n",
       "      <td>1</td>\n",
       "      <td>0</td>\n",
       "      <td>0</td>\n",
       "      <td>0</td>\n",
       "      <td>0</td>\n",
       "      <td>1</td>\n",
       "    </tr>\n",
       "    <tr>\n",
       "      <th>2</th>\n",
       "      <td>0</td>\n",
       "      <td>1</td>\n",
       "      <td>0</td>\n",
       "      <td>0</td>\n",
       "      <td>1</td>\n",
       "      <td>1</td>\n",
       "      <td>0</td>\n",
       "      <td>0</td>\n",
       "      <td>1</td>\n",
       "      <td>0</td>\n",
       "      <td>...</td>\n",
       "      <td>0</td>\n",
       "      <td>0</td>\n",
       "      <td>0</td>\n",
       "      <td>1</td>\n",
       "      <td>0</td>\n",
       "      <td>1</td>\n",
       "      <td>0</td>\n",
       "      <td>0</td>\n",
       "      <td>0</td>\n",
       "      <td>1</td>\n",
       "    </tr>\n",
       "    <tr>\n",
       "      <th>3</th>\n",
       "      <td>1</td>\n",
       "      <td>0</td>\n",
       "      <td>1</td>\n",
       "      <td>0</td>\n",
       "      <td>0</td>\n",
       "      <td>0</td>\n",
       "      <td>1</td>\n",
       "      <td>1</td>\n",
       "      <td>0</td>\n",
       "      <td>0</td>\n",
       "      <td>...</td>\n",
       "      <td>0</td>\n",
       "      <td>0</td>\n",
       "      <td>0</td>\n",
       "      <td>1</td>\n",
       "      <td>0</td>\n",
       "      <td>1</td>\n",
       "      <td>0</td>\n",
       "      <td>0</td>\n",
       "      <td>1</td>\n",
       "      <td>0</td>\n",
       "    </tr>\n",
       "    <tr>\n",
       "      <th>4</th>\n",
       "      <td>0</td>\n",
       "      <td>1</td>\n",
       "      <td>0</td>\n",
       "      <td>1</td>\n",
       "      <td>0</td>\n",
       "      <td>0</td>\n",
       "      <td>1</td>\n",
       "      <td>0</td>\n",
       "      <td>0</td>\n",
       "      <td>1</td>\n",
       "      <td>...</td>\n",
       "      <td>0</td>\n",
       "      <td>0</td>\n",
       "      <td>0</td>\n",
       "      <td>1</td>\n",
       "      <td>0</td>\n",
       "      <td>1</td>\n",
       "      <td>0</td>\n",
       "      <td>0</td>\n",
       "      <td>0</td>\n",
       "      <td>1</td>\n",
       "    </tr>\n",
       "  </tbody>\n",
       "</table>\n",
       "<p>5 rows × 22 columns</p>\n",
       "</div>"
      ],
      "text/plain": [
       "   gender_Female  gender_Male  wealth_segment_Affluent Customer  \\\n",
       "0              1            0                                 0   \n",
       "1              0            1                                 0   \n",
       "2              0            1                                 0   \n",
       "3              1            0                                 1   \n",
       "4              0            1                                 0   \n",
       "\n",
       "   wealth_segment_High Net Worth  wealth_segment_Mass Customer  owns_car_No  \\\n",
       "0                              0                             1            0   \n",
       "1                              0                             1            0   \n",
       "2                              0                             1            1   \n",
       "3                              0                             0            0   \n",
       "4                              1                             0            0   \n",
       "\n",
       "   owns_car_Yes  state_NSW  state_QLD  state_VIC  ...  age_cat_young  \\\n",
       "0             1          1          0          0  ...              0   \n",
       "1             1          1          0          0  ...              0   \n",
       "2             0          0          1          0  ...              0   \n",
       "3             1          1          0          0  ...              0   \n",
       "4             1          0          0          1  ...              0   \n",
       "\n",
       "   purchase_cat_few  purchase_cat_many  purchase_cat_medium  tenure_cat_long  \\\n",
       "0                 0                  1                    0                0   \n",
       "1                 0                  1                    0                1   \n",
       "2                 0                  0                    1                0   \n",
       "3                 0                  0                    1                0   \n",
       "4                 0                  0                    1                0   \n",
       "\n",
       "   tenure_cat_medium  tenure_cat_short  property_cat_high  property_cat_low  \\\n",
       "0                  1                 0                  0                 0   \n",
       "1                  0                 0                  0                 0   \n",
       "2                  1                 0                  0                 0   \n",
       "3                  1                 0                  0                 1   \n",
       "4                  1                 0                  0                 0   \n",
       "\n",
       "   property_cat_medium  \n",
       "0                    1  \n",
       "1                    1  \n",
       "2                    1  \n",
       "3                    0  \n",
       "4                    1  \n",
       "\n",
       "[5 rows x 22 columns]"
      ]
     },
     "execution_count": 229,
     "metadata": {},
     "output_type": "execute_result"
    }
   ],
   "source": [
    "X.head()"
   ]
  },
  {
   "cell_type": "code",
   "execution_count": 230,
   "metadata": {},
   "outputs": [],
   "source": [
    "X_train, X_test, y_train, y_test = train_test_split(X,y, \n",
    "                                                    stratify=y, test_size=0.3,\n",
    "                                                    random_state = 123)"
   ]
  },
  {
   "cell_type": "code",
   "execution_count": 231,
   "metadata": {},
   "outputs": [],
   "source": [
    "class_names = ['high','low', 'medium']"
   ]
  },
  {
   "cell_type": "markdown",
   "metadata": {},
   "source": [
    "## Decision Tree"
   ]
  },
  {
   "cell_type": "code",
   "execution_count": 232,
   "metadata": {},
   "outputs": [
    {
     "name": "stdout",
     "output_type": "stream",
     "text": [
      "[[0.39193084 0.14121037 0.46685879]\n",
      " [0.41040462 0.13872832 0.45086705]\n",
      " [0.39562624 0.1471173  0.45725646]]\n",
      "Classification report: DT w/o SMOTE\n",
      "-------------------------------\n",
      "              precision    recall  f1-score   support\n",
      "\n",
      "        high       0.33      0.39      0.36       347\n",
      "         low       0.16      0.14      0.15       173\n",
      "      medium       0.49      0.46      0.47       503\n",
      "\n",
      "    accuracy                           0.38      1023\n",
      "   macro avg       0.33      0.33      0.33      1023\n",
      "weighted avg       0.38      0.38      0.38      1023\n",
      "\n",
      "-----------------------------\n",
      "Cohen Jappa Score: -0.01\n",
      "Matthews Coefficient: -0.01\n"
     ]
    },
    {
     "data": {
      "image/png": "[encoded data removed]",
      "text/plain": [
       "<Figure size 432x288 with 2 Axes>"
      ]
     },
     "metadata": {},
     "output_type": "display_data"
    }
   ],
   "source": [
    "dtclf = DecisionTreeClassifier()\n",
    "dtclf.fit(X_train, y_train)\n",
    "y_predict = dtclf.predict(X_test)\n",
    "    \n",
    "plot_confusion_matrix(confusion_matrix(y_test,y_predict),\n",
    "                      class_names, \n",
    "                      normalize=True,\n",
    "                      title='Normalized Confusion Matrix: Decision Tree')\n",
    "\n",
    "print('Classification report: DT w/o SMOTE')\n",
    "print('-------------------------------')\n",
    "report(y_test, y_predict, class_names)"
   ]
  },
  {
   "cell_type": "code",
   "execution_count": 233,
   "metadata": {},
   "outputs": [
    {
     "name": "stdout",
     "output_type": "stream",
     "text": [
      "[[136  49 162]\n",
      " [ 71  24  78]\n",
      " [199  74 230]]\n",
      "              precision    recall  f1-score   support\n",
      "\n",
      "        high       0.33      0.39      0.36       347\n",
      "         low       0.16      0.14      0.15       173\n",
      "      medium       0.49      0.46      0.47       503\n",
      "\n",
      "    accuracy                           0.38      1023\n",
      "   macro avg       0.33      0.33      0.33      1023\n",
      "weighted avg       0.38      0.38      0.38      1023\n",
      "\n"
     ]
    }
   ],
   "source": [
    "print(confusion_matrix(y_test,y_predict))\n",
    "print(classification_report(y_test,y_predict))"
   ]
  },
  {
   "cell_type": "markdown",
   "metadata": {},
   "source": [
    "# Export files"
   ]
  },
  {
   "cell_type": "code",
   "execution_count": 292,
   "metadata": {},
   "outputs": [],
   "source": [
    "PastCust_demo_labeled_3.to_excel('PastCust_demo_labeled_3.xlsx', index=False)"
   ]
  },
  {
   "cell_type": "code",
   "execution_count": 293,
   "metadata": {},
   "outputs": [],
   "source": [
    "PastCust_demo_labeled_2.to_excel('PastCust_demo_labeled_2.xlsx', index=False)"
   ]
  },
  {
   "cell_type": "code",
   "execution_count": 294,
   "metadata": {},
   "outputs": [],
   "source": [
    "PastCust_demo_cat_labeled_3.to_excel('PastCust_demo_cat_labeled_3.xlsx', index=False)"
   ]
  },
  {
   "cell_type": "code",
   "execution_count": 295,
   "metadata": {},
   "outputs": [],
   "source": [
    "PastCust_demo_cat_labeled_2.to_excel('PastCust_demo_cat_labeled_2.xlsx', index=False)"
   ]
  },
  {
   "cell_type": "code",
   "execution_count": null,
   "metadata": {},
   "outputs": [],
   "source": []
  }
 ],
 "metadata": {
  "kernelspec": {
   "display_name": "Python 3",
   "language": "python",
   "name": "python3"
  },
  "language_info": {
   "codemirror_mode": {
    "name": "ipython",
    "version": 3
   },
   "file_extension": ".py",
   "mimetype": "text/x-python",
   "name": "python",
   "nbconvert_exporter": "python",
   "pygments_lexer": "ipython3",
   "version": "3.7.4"
  },
  "toc": {
   "base_numbering": 1,
   "nav_menu": {},
   "number_sections": false,
   "sideBar": true,
   "skip_h1_title": false,
   "title_cell": "Table of Contents",
   "title_sidebar": "Contents",
   "toc_cell": false,
   "toc_position": {
    "height": "calc(100% - 180px)",
    "left": "10px",
    "top": "150px",
    "width": "179.390625px"
   },
   "toc_section_display": true,
   "toc_window_display": true
  }
 },
 "nbformat": 4,
 "nbformat_minor": 2
}
