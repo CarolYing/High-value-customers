{
 "cells": [
  {
   "cell_type": "markdown",
   "metadata": {},
   "source": [
    "# Import Packages"
   ]
  },
  {
   "cell_type": "code",
   "execution_count": 58,
   "metadata": {},
   "outputs": [],
   "source": [
    "import warnings\n",
    "warnings.filterwarnings('ignore')\n",
    "\n",
    "import numpy as np\n",
    "import pandas as pd\n",
    "import matplotlib.pyplot as plt\n",
    "plt.figure(figsize=(8, 6))\n",
    "%matplotlib inline\n",
    "import seaborn as sns\n",
    "\n",
    "from functools import reduce\n",
    "\n",
    "import datetime as dt\n",
    "\n",
    "import missingno as msno # viz missing values\n",
    "\n",
    "sns.set_style(\"darkgrid\")\n",
    "import itertools\n",
    "\n",
    "# show all the rows\n",
    "pd.set_option('display.max_rows', 500)"
   ]
  },
  {
   "cell_type": "markdown",
   "metadata": {},
   "source": [
    "# Read Datasets"
   ]
  },
  {
   "cell_type": "code",
   "execution_count": 62,
   "metadata": {},
   "outputs": [],
   "source": [
    "Transactions = pd.read_excel('Transactions.xlsx')"
   ]
  },
  {
   "cell_type": "code",
   "execution_count": 63,
   "metadata": {},
   "outputs": [],
   "source": [
    "label_2 = pd.read_excel('label_2.xlsx')"
   ]
  },
  {
   "cell_type": "code",
   "execution_count": 64,
   "metadata": {},
   "outputs": [],
   "source": [
    "label_3 = pd.read_excel('label_3.xlsx')"
   ]
  },
  {
   "cell_type": "markdown",
   "metadata": {},
   "source": [
    "# Transfer Transaction table"
   ]
  },
  {
   "cell_type": "code",
   "execution_count": 65,
   "metadata": {},
   "outputs": [
    {
     "data": {
      "text/html": [
       "<div>\n",
       "<style scoped>\n",
       "    .dataframe tbody tr th:only-of-type {\n",
       "        vertical-align: middle;\n",
       "    }\n",
       "\n",
       "    .dataframe tbody tr th {\n",
       "        vertical-align: top;\n",
       "    }\n",
       "\n",
       "    .dataframe thead th {\n",
       "        text-align: right;\n",
       "    }\n",
       "</style>\n",
       "<table border=\"1\" class=\"dataframe\">\n",
       "  <thead>\n",
       "    <tr style=\"text-align: right;\">\n",
       "      <th></th>\n",
       "      <th>transaction_id</th>\n",
       "      <th>product_id</th>\n",
       "      <th>customer_id</th>\n",
       "      <th>transaction_date</th>\n",
       "      <th>online_order</th>\n",
       "      <th>order_status</th>\n",
       "      <th>brand</th>\n",
       "      <th>product_line</th>\n",
       "      <th>product_class</th>\n",
       "      <th>product_size</th>\n",
       "      <th>list_price</th>\n",
       "      <th>standard_cost</th>\n",
       "      <th>product_first_sold_date</th>\n",
       "    </tr>\n",
       "  </thead>\n",
       "  <tbody>\n",
       "    <tr>\n",
       "      <th>0</th>\n",
       "      <td>140</td>\n",
       "      <td>11</td>\n",
       "      <td>462</td>\n",
       "      <td>2017-01-01</td>\n",
       "      <td>0</td>\n",
       "      <td>Approved</td>\n",
       "      <td>Giant Bicycles</td>\n",
       "      <td>Standard</td>\n",
       "      <td>high</td>\n",
       "      <td>medium</td>\n",
       "      <td>1274.93</td>\n",
       "      <td>764.96</td>\n",
       "      <td>2016-07-11</td>\n",
       "    </tr>\n",
       "    <tr>\n",
       "      <th>1</th>\n",
       "      <td>517</td>\n",
       "      <td>77</td>\n",
       "      <td>311</td>\n",
       "      <td>2017-01-01</td>\n",
       "      <td>1</td>\n",
       "      <td>Approved</td>\n",
       "      <td>WeareA2B</td>\n",
       "      <td>Standard</td>\n",
       "      <td>medium</td>\n",
       "      <td>medium</td>\n",
       "      <td>1769.64</td>\n",
       "      <td>108.76</td>\n",
       "      <td>2011-05-11</td>\n",
       "    </tr>\n",
       "    <tr>\n",
       "      <th>2</th>\n",
       "      <td>561</td>\n",
       "      <td>65</td>\n",
       "      <td>2298</td>\n",
       "      <td>2017-01-01</td>\n",
       "      <td>0</td>\n",
       "      <td>Approved</td>\n",
       "      <td>WeareA2B</td>\n",
       "      <td>Standard</td>\n",
       "      <td>medium</td>\n",
       "      <td>medium</td>\n",
       "      <td>1807.45</td>\n",
       "      <td>778.69</td>\n",
       "      <td>2010-08-22</td>\n",
       "    </tr>\n",
       "    <tr>\n",
       "      <th>3</th>\n",
       "      <td>1293</td>\n",
       "      <td>67</td>\n",
       "      <td>1931</td>\n",
       "      <td>2017-01-01</td>\n",
       "      <td>1</td>\n",
       "      <td>Approved</td>\n",
       "      <td>Norco Bicycles</td>\n",
       "      <td>Road</td>\n",
       "      <td>medium</td>\n",
       "      <td>medium</td>\n",
       "      <td>544.05</td>\n",
       "      <td>376.84</td>\n",
       "      <td>2005-10-24</td>\n",
       "    </tr>\n",
       "    <tr>\n",
       "      <th>4</th>\n",
       "      <td>1403</td>\n",
       "      <td>0</td>\n",
       "      <td>2891</td>\n",
       "      <td>2017-01-01</td>\n",
       "      <td>1</td>\n",
       "      <td>Approved</td>\n",
       "      <td>OHM Cycles</td>\n",
       "      <td>Standard</td>\n",
       "      <td>medium</td>\n",
       "      <td>medium</td>\n",
       "      <td>183.86</td>\n",
       "      <td>137.90</td>\n",
       "      <td>1993-07-22</td>\n",
       "    </tr>\n",
       "  </tbody>\n",
       "</table>\n",
       "</div>"
      ],
      "text/plain": [
       "   transaction_id  product_id  customer_id transaction_date  online_order  \\\n",
       "0             140          11          462       2017-01-01             0   \n",
       "1             517          77          311       2017-01-01             1   \n",
       "2             561          65         2298       2017-01-01             0   \n",
       "3            1293          67         1931       2017-01-01             1   \n",
       "4            1403           0         2891       2017-01-01             1   \n",
       "\n",
       "  order_status           brand product_line product_class product_size  \\\n",
       "0     Approved  Giant Bicycles     Standard          high       medium   \n",
       "1     Approved        WeareA2B     Standard        medium       medium   \n",
       "2     Approved        WeareA2B     Standard        medium       medium   \n",
       "3     Approved  Norco Bicycles         Road        medium       medium   \n",
       "4     Approved      OHM Cycles     Standard        medium       medium   \n",
       "\n",
       "   list_price  standard_cost product_first_sold_date  \n",
       "0     1274.93         764.96              2016-07-11  \n",
       "1     1769.64         108.76              2011-05-11  \n",
       "2     1807.45         778.69              2010-08-22  \n",
       "3      544.05         376.84              2005-10-24  \n",
       "4      183.86         137.90              1993-07-22  "
      ]
     },
     "execution_count": 65,
     "metadata": {},
     "output_type": "execute_result"
    }
   ],
   "source": [
    "Transactions.head()"
   ]
  },
  {
   "cell_type": "code",
   "execution_count": 66,
   "metadata": {},
   "outputs": [
    {
     "data": {
      "text/plain": [
       "<AxesSubplot:xlabel='order_status', ylabel='Count'>"
      ]
     },
     "execution_count": 66,
     "metadata": {},
     "output_type": "execute_result"
    },
    {
     "data": {
      "image/png": "[encoded data removed]",
      "text/plain": [
       "<Figure size 432x288 with 1 Axes>"
      ]
     },
     "metadata": {},
     "output_type": "display_data"
    }
   ],
   "source": [
    "sns.histplot(data=Transactions, x = 'order_status')"
   ]
  },
  {
   "cell_type": "markdown",
   "metadata": {},
   "source": [
    "## 1. Remove transactions which were cancelled"
   ]
  },
  {
   "cell_type": "code",
   "execution_count": 67,
   "metadata": {},
   "outputs": [],
   "source": [
    "Transactions = Transactions[Transactions['order_status'] == 'Approved']"
   ]
  },
  {
   "cell_type": "code",
   "execution_count": 68,
   "metadata": {},
   "outputs": [],
   "source": [
    "#sns.histplot(data=Transactions, x = 'brand')"
   ]
  },
  {
   "cell_type": "code",
   "execution_count": 69,
   "metadata": {},
   "outputs": [],
   "source": [
    "#sns.histplot(data=Transactions, x = 'product_line')"
   ]
  },
  {
   "cell_type": "code",
   "execution_count": 70,
   "metadata": {},
   "outputs": [],
   "source": [
    "#sns.histplot(data=Transactions, x = 'product_class')"
   ]
  },
  {
   "cell_type": "code",
   "execution_count": 71,
   "metadata": {},
   "outputs": [],
   "source": [
    "#sns.histplot(data=Transactions, x = 'product_size')"
   ]
  },
  {
   "cell_type": "markdown",
   "metadata": {},
   "source": [
    "## 2. New or old product?"
   ]
  },
  {
   "cell_type": "code",
   "execution_count": 72,
   "metadata": {},
   "outputs": [],
   "source": [
    "Transactions['product_year'] = Transactions['product_first_sold_date'].apply(lambda x: (pd.to_datetime('2017-12-31').year - x.year))"
   ]
  },
  {
   "cell_type": "code",
   "execution_count": 73,
   "metadata": {},
   "outputs": [
    {
     "data": {
      "text/plain": [
       "<AxesSubplot:xlabel='product_year', ylabel='Count'>"
      ]
     },
     "execution_count": 73,
     "metadata": {},
     "output_type": "execute_result"
    },
    {
     "data": {
      "image/png": "[encoded data removed]",
      "text/plain": [
       "<Figure size 432x288 with 1 Axes>"
      ]
     },
     "metadata": {},
     "output_type": "display_data"
    }
   ],
   "source": [
    "sns.histplot(data=Transactions, x = 'product_year')"
   ]
  },
  {
   "cell_type": "markdown",
   "metadata": {},
   "source": [
    "*But how to define new or old product?*"
   ]
  },
  {
   "cell_type": "markdown",
   "metadata": {},
   "source": [
    "*relationship between product age and price?*"
   ]
  },
  {
   "cell_type": "code",
   "execution_count": 74,
   "metadata": {},
   "outputs": [
    {
     "data": {
      "text/plain": [
       "<AxesSubplot:xlabel='product_year', ylabel='ave_price'>"
      ]
     },
     "execution_count": 74,
     "metadata": {},
     "output_type": "execute_result"
    },
    {
     "data": {
      "image/png": "[encoded data removed]",
      "text/plain": [
       "<Figure size 432x288 with 1 Axes>"
      ]
     },
     "metadata": {},
     "output_type": "display_data"
    }
   ],
   "source": [
    "temp = Transactions.groupby(['product_year'])['list_price'].mean().to_frame(name='ave_price').reset_index()\n",
    "sns.lineplot(x='product_year', y='ave_price', data=temp)"
   ]
  },
  {
   "cell_type": "markdown",
   "metadata": {},
   "source": [
    "**Conclusion: there is no obvious correlation between  product age and product price**"
   ]
  },
  {
   "cell_type": "markdown",
   "metadata": {},
   "source": [
    "**definition:**\n",
    "- the product is released in 10 years --> new product\n",
    "- the product is released 10 years ago or even earlier --> old product"
   ]
  },
  {
   "cell_type": "code",
   "execution_count": 75,
   "metadata": {},
   "outputs": [],
   "source": [
    "Transactions['product_age'] = Transactions['product_year'].apply(lambda x: 'new' if x <= 10 else 'old')"
   ]
  },
  {
   "cell_type": "code",
   "execution_count": 76,
   "metadata": {},
   "outputs": [
    {
     "data": {
      "text/html": [
       "<div>\n",
       "<style scoped>\n",
       "    .dataframe tbody tr th:only-of-type {\n",
       "        vertical-align: middle;\n",
       "    }\n",
       "\n",
       "    .dataframe tbody tr th {\n",
       "        vertical-align: top;\n",
       "    }\n",
       "\n",
       "    .dataframe thead th {\n",
       "        text-align: right;\n",
       "    }\n",
       "</style>\n",
       "<table border=\"1\" class=\"dataframe\">\n",
       "  <thead>\n",
       "    <tr style=\"text-align: right;\">\n",
       "      <th></th>\n",
       "      <th>transaction_id</th>\n",
       "      <th>product_id</th>\n",
       "      <th>customer_id</th>\n",
       "      <th>transaction_date</th>\n",
       "      <th>online_order</th>\n",
       "      <th>order_status</th>\n",
       "      <th>brand</th>\n",
       "      <th>product_line</th>\n",
       "      <th>product_class</th>\n",
       "      <th>product_size</th>\n",
       "      <th>list_price</th>\n",
       "      <th>standard_cost</th>\n",
       "      <th>product_first_sold_date</th>\n",
       "      <th>product_year</th>\n",
       "      <th>product_age</th>\n",
       "    </tr>\n",
       "  </thead>\n",
       "  <tbody>\n",
       "    <tr>\n",
       "      <th>0</th>\n",
       "      <td>140</td>\n",
       "      <td>11</td>\n",
       "      <td>462</td>\n",
       "      <td>2017-01-01</td>\n",
       "      <td>0</td>\n",
       "      <td>Approved</td>\n",
       "      <td>Giant Bicycles</td>\n",
       "      <td>Standard</td>\n",
       "      <td>high</td>\n",
       "      <td>medium</td>\n",
       "      <td>1274.93</td>\n",
       "      <td>764.96</td>\n",
       "      <td>2016-07-11</td>\n",
       "      <td>1</td>\n",
       "      <td>new</td>\n",
       "    </tr>\n",
       "    <tr>\n",
       "      <th>1</th>\n",
       "      <td>517</td>\n",
       "      <td>77</td>\n",
       "      <td>311</td>\n",
       "      <td>2017-01-01</td>\n",
       "      <td>1</td>\n",
       "      <td>Approved</td>\n",
       "      <td>WeareA2B</td>\n",
       "      <td>Standard</td>\n",
       "      <td>medium</td>\n",
       "      <td>medium</td>\n",
       "      <td>1769.64</td>\n",
       "      <td>108.76</td>\n",
       "      <td>2011-05-11</td>\n",
       "      <td>6</td>\n",
       "      <td>new</td>\n",
       "    </tr>\n",
       "    <tr>\n",
       "      <th>2</th>\n",
       "      <td>561</td>\n",
       "      <td>65</td>\n",
       "      <td>2298</td>\n",
       "      <td>2017-01-01</td>\n",
       "      <td>0</td>\n",
       "      <td>Approved</td>\n",
       "      <td>WeareA2B</td>\n",
       "      <td>Standard</td>\n",
       "      <td>medium</td>\n",
       "      <td>medium</td>\n",
       "      <td>1807.45</td>\n",
       "      <td>778.69</td>\n",
       "      <td>2010-08-22</td>\n",
       "      <td>7</td>\n",
       "      <td>new</td>\n",
       "    </tr>\n",
       "    <tr>\n",
       "      <th>3</th>\n",
       "      <td>1293</td>\n",
       "      <td>67</td>\n",
       "      <td>1931</td>\n",
       "      <td>2017-01-01</td>\n",
       "      <td>1</td>\n",
       "      <td>Approved</td>\n",
       "      <td>Norco Bicycles</td>\n",
       "      <td>Road</td>\n",
       "      <td>medium</td>\n",
       "      <td>medium</td>\n",
       "      <td>544.05</td>\n",
       "      <td>376.84</td>\n",
       "      <td>2005-10-24</td>\n",
       "      <td>12</td>\n",
       "      <td>old</td>\n",
       "    </tr>\n",
       "    <tr>\n",
       "      <th>4</th>\n",
       "      <td>1403</td>\n",
       "      <td>0</td>\n",
       "      <td>2891</td>\n",
       "      <td>2017-01-01</td>\n",
       "      <td>1</td>\n",
       "      <td>Approved</td>\n",
       "      <td>OHM Cycles</td>\n",
       "      <td>Standard</td>\n",
       "      <td>medium</td>\n",
       "      <td>medium</td>\n",
       "      <td>183.86</td>\n",
       "      <td>137.90</td>\n",
       "      <td>1993-07-22</td>\n",
       "      <td>24</td>\n",
       "      <td>old</td>\n",
       "    </tr>\n",
       "  </tbody>\n",
       "</table>\n",
       "</div>"
      ],
      "text/plain": [
       "   transaction_id  product_id  customer_id transaction_date  online_order  \\\n",
       "0             140          11          462       2017-01-01             0   \n",
       "1             517          77          311       2017-01-01             1   \n",
       "2             561          65         2298       2017-01-01             0   \n",
       "3            1293          67         1931       2017-01-01             1   \n",
       "4            1403           0         2891       2017-01-01             1   \n",
       "\n",
       "  order_status           brand product_line product_class product_size  \\\n",
       "0     Approved  Giant Bicycles     Standard          high       medium   \n",
       "1     Approved        WeareA2B     Standard        medium       medium   \n",
       "2     Approved        WeareA2B     Standard        medium       medium   \n",
       "3     Approved  Norco Bicycles         Road        medium       medium   \n",
       "4     Approved      OHM Cycles     Standard        medium       medium   \n",
       "\n",
       "   list_price  standard_cost product_first_sold_date  product_year product_age  \n",
       "0     1274.93         764.96              2016-07-11             1         new  \n",
       "1     1769.64         108.76              2011-05-11             6         new  \n",
       "2     1807.45         778.69              2010-08-22             7         new  \n",
       "3      544.05         376.84              2005-10-24            12         old  \n",
       "4      183.86         137.90              1993-07-22            24         old  "
      ]
     },
     "execution_count": 76,
     "metadata": {},
     "output_type": "execute_result"
    }
   ],
   "source": [
    "Transactions.head()"
   ]
  },
  {
   "cell_type": "code",
   "execution_count": 77,
   "metadata": {},
   "outputs": [
    {
     "data": {
      "text/plain": [
       "<AxesSubplot:xlabel='product_age', ylabel='Count'>"
      ]
     },
     "execution_count": 77,
     "metadata": {},
     "output_type": "execute_result"
    },
    {
     "data": {
      "image/png": "[encoded data removed]",
      "text/plain": [
       "<Figure size 432x288 with 1 Axes>"
      ]
     },
     "metadata": {},
     "output_type": "display_data"
    }
   ],
   "source": [
    "sns.histplot(data=Transactions, x = 'product_age')"
   ]
  },
  {
   "cell_type": "markdown",
   "metadata": {},
   "source": [
    "## 3. Transaction data --> month"
   ]
  },
  {
   "cell_type": "code",
   "execution_count": 78,
   "metadata": {},
   "outputs": [],
   "source": [
    "Transactions['trans_month'] = Transactions['transaction_date'].apply(lambda x: (pd.to_datetime(x).month))"
   ]
  },
  {
   "cell_type": "code",
   "execution_count": 79,
   "metadata": {},
   "outputs": [
    {
     "data": {
      "text/plain": [
       "<AxesSubplot:xlabel='trans_month', ylabel='Count'>"
      ]
     },
     "execution_count": 79,
     "metadata": {},
     "output_type": "execute_result"
    },
    {
     "data": {
      "image/png": "[encoded data removed]",
      "text/plain": [
       "<Figure size 432x288 with 1 Axes>"
      ]
     },
     "metadata": {},
     "output_type": "display_data"
    }
   ],
   "source": [
    "sns.histplot(data=Transactions, x = 'trans_month')"
   ]
  },
  {
   "cell_type": "markdown",
   "metadata": {},
   "source": [
    "**this is a demo**"
   ]
  },
  {
   "cell_type": "markdown",
   "metadata": {},
   "source": [
    "| customer_id | product_age |\n",
    "| -- | -- |\n",
    "| 01 | old |\n",
    "| 01 | old |\n",
    "| 01 | new |\n",
    "| 02 | new |\n",
    "| 02 |  new|"
   ]
  },
  {
   "cell_type": "markdown",
   "metadata": {},
   "source": [
    "| customer_id | product_age_old | product_age_new |\n",
    "| -- | -- | -- |\n",
    "| 01 | 2 | 1 |\n",
    "| 02 | 0 | 2 |"
   ]
  },
  {
   "cell_type": "markdown",
   "metadata": {},
   "source": [
    "refer to this [webpage](https://www.statology.org/pandas-merge-multiple-dataframes/)"
   ]
  },
  {
   "cell_type": "markdown",
   "metadata": {},
   "source": [
    "# Transfer data cut (The first M months transactions)"
   ]
  },
  {
   "cell_type": "code",
   "execution_count": 80,
   "metadata": {},
   "outputs": [],
   "source": [
    "month = ['2017-01-31', \n",
    "         '2017-02-28', \n",
    "         '2017-03-31', \n",
    "         '2017-04-30', \n",
    "         '2017-05-31', \n",
    "         '2017-06-30', \n",
    "         '2017-07-31', \n",
    "         '2017-08-31', \n",
    "         '2017-09-30', \n",
    "         '2017-10-31', \n",
    "         '2017-11-30',\n",
    "         '2017-12-30']"
   ]
  },
  {
   "cell_type": "code",
   "execution_count": 81,
   "metadata": {},
   "outputs": [
    {
     "name": "stdout",
     "output_type": "stream",
     "text": [
      "by the end of 2017-01-31\n",
      "dataset shape is (1621, 16)\n",
      "by the end of 2017-02-28\n",
      "dataset shape is (3194, 16)\n",
      "by the end of 2017-03-31\n",
      "dataset shape is (4779, 16)\n",
      "by the end of 2017-04-30\n",
      "dataset shape is (6375, 16)\n",
      "by the end of 2017-05-31\n",
      "dataset shape is (7999, 16)\n",
      "by the end of 2017-06-30\n",
      "dataset shape is (9517, 16)\n",
      "by the end of 2017-07-31\n",
      "dataset shape is (11173, 16)\n",
      "by the end of 2017-08-31\n",
      "dataset shape is (12860, 16)\n",
      "by the end of 2017-09-30\n",
      "dataset shape is (14380, 16)\n",
      "by the end of 2017-10-31\n",
      "dataset shape is (16090, 16)\n",
      "by the end of 2017-11-30\n",
      "dataset shape is (17682, 16)\n",
      "by the end of 2017-12-30\n",
      "dataset shape is (19273, 16)\n"
     ]
    }
   ],
   "source": [
    "for i in range(len(month)):\n",
    "    Transactions_cut = Transactions[Transactions['transaction_date'] <= month[i]]\n",
    "    print(f'by the end of {month[i]}')\n",
    "    print(f'dataset shape is {Transactions_cut.shape}')\n",
    "    \n",
    "    # product_age\n",
    "    temp1 = pd.crosstab(Transactions_cut['customer_id'], Transactions_cut['product_age']).reset_index().rename_axis(columns = None)\n",
    "    temp1.rename(columns={'new':'product_age_new', 'old':'product_age_old'}, inplace=True)\n",
    "    \n",
    "    # brand\n",
    "    temp2 = pd.crosstab(Transactions_cut['customer_id'], Transactions_cut['brand']).reset_index().rename_axis(columns = None)\n",
    "    \n",
    "    # product_line\n",
    "    temp3 = pd.crosstab(Transactions_cut['customer_id'], Transactions_cut['product_line']).reset_index().rename_axis(columns = None)\n",
    "    \n",
    "    # product_class\n",
    "    temp4 = pd.crosstab(Transactions_cut['customer_id'], Transactions_cut['product_class']).reset_index().rename_axis(columns = None)\n",
    "    temp4.rename(columns={'high':'product_class_high', \n",
    "                          'low':'product_class_low',\n",
    "                          'medium':'product_class_medium'}, inplace=True)\n",
    "    \n",
    "    # product_size\n",
    "    temp5 = pd.crosstab(Transactions_cut['customer_id'], Transactions_cut['product_size']).reset_index().rename_axis(columns = None)\n",
    "    temp5.rename(columns={'large':'product_size_large', \n",
    "                          'medium':'product_size_medium',\n",
    "                          'small':'product_size_small'}, inplace=True)\n",
    "    \n",
    "    # multi_trans\n",
    "    # some customers made multiple transactions on the same day\n",
    "    temp = Transactions_cut.groupby(['customer_id', 'transaction_date'])['transaction_id'].count().to_frame(name='cnt').reset_index()\n",
    "\n",
    "    # get list of customers who have multiple transactions on the same day\n",
    "    lst = temp[temp['cnt'] > 1]['customer_id'].to_list()\n",
    "\n",
    "    Transactions_cut['multi_trans'] = Transactions_cut['customer_id'].apply(lambda x: 1 if x in lst else 0)\n",
    "    temp6 = Transactions_cut[['customer_id','multi_trans']].drop_duplicates(subset = [\"customer_id\"]).sort_values(by=['customer_id']).reset_index().drop('index', axis=1)\n",
    "    \n",
    "    # define a list of dataframes\n",
    "    dfs = [temp1, temp2, temp3, temp4, temp5, temp6]\n",
    "    \n",
    "    # merge all dataframes into one\n",
    "    df = reduce(lambda left,right: pd.merge(left,right,on=['customer_id'], how='outer'), dfs)\n",
    "    \n",
    "    PastCust_trans_cut_fm_labeled_2 = df.merge(label_2, on = 'customer_id', how='inner')\n",
    "    \n",
    "    # export file\n",
    "    file_name ='PastCust_trans_cut_first' + '_' + str(i+1) + '_' + 'months_labeled_2.xlsx'\n",
    "    PastCust_trans_cut_fm_labeled_2.to_excel(file_name, index=False)"
   ]
  },
  {
   "cell_type": "code",
   "execution_count": null,
   "metadata": {},
   "outputs": [],
   "source": []
  }
 ],
 "metadata": {
  "kernelspec": {
   "display_name": "Python 3",
   "language": "python",
   "name": "python3"
  },
  "language_info": {
   "codemirror_mode": {
    "name": "ipython",
    "version": 3
   },
   "file_extension": ".py",
   "mimetype": "text/x-python",
   "name": "python",
   "nbconvert_exporter": "python",
   "pygments_lexer": "ipython3",
   "version": "3.7.4"
  },
  "toc": {
   "base_numbering": 1,
   "nav_menu": {},
   "number_sections": false,
   "sideBar": true,
   "skip_h1_title": false,
   "title_cell": "Table of Contents",
   "title_sidebar": "Contents",
   "toc_cell": false,
   "toc_position": {
    "height": "calc(100% - 180px)",
    "left": "10px",
    "top": "150px",
    "width": "260.796875px"
   },
   "toc_section_display": true,
   "toc_window_display": true
  }
 },
 "nbformat": 4,
 "nbformat_minor": 2
}
